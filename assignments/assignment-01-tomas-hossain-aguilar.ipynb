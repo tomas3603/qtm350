{
 "cells": [
  {
   "cell_type": "markdown",
   "metadata": {},
   "source": [
    "# QTM 350 - Data Science Computing\n",
    "\n",
    "## Assignment 01 - Computational Literacy\n",
    "### Due 11 September 2024\n",
    "\n",
    "### Instructions\n",
    "\n",
    "This assignment evaluates your understanding of topics covered in the first two weeks of class, including binary and hexadecimal number systems, ASCII encoding, and programming language fundamentals.\n",
    "\n",
    "You must complete this assignment individually. While you may use available resources such as notes, books, and AI tools, you are expected to submit original work. Please acknowledge all resources used, including input from classmates and AI. If you are unsure about permissible resources or proper acknowledgement, please consult the instructor.\n",
    "\n",
    "Present your solutions clearly and systematically, showing your problem-solving process. Please ensure that any code is well-commented.\n",
    "\n",
    "### Submission\n",
    "\n",
    "Please submit your solutions as either a single Jupyter notebook or a Quarto PDF file. Follow the instructions provided in each section carefully. Submit your completed assignment to Canvas or via email (danilo.freire@emory.edu) by Wednesday, September 11, at 11:59 PM."
   ]
  },
  {
   "cell_type": "markdown",
   "metadata": {},
   "source": [
    "### Question 01\n",
    "\n",
    "Convert the decimal number 53 to binary. Show your work."
   ]
  },
  {
   "cell_type": "code",
   "execution_count": 102,
   "metadata": {},
   "outputs": [
    {
     "name": "stdout",
     "output_type": "stream",
     "text": [
      "53 / 2 = 26, remainder of 1, bit #0 is 1\n",
      "26 / 2 = 13, remainder of 0, bit #1 is 0\n",
      "13 / 2 = 6, remainder of 1, bit #2 is 1\n",
      "6 / 2 = 3, remainder of 0, bit #3 is 0\n",
      "3 / 2 = 1, remainder of 1, bit #4 is 1\n",
      "1 / 2 = 0, remainder of 1, bit #5 is 1\n",
      "Binary representation of 53: 110101\n"
     ]
    }
   ],
   "source": [
    "# initialize variable for 53\n",
    "decimal = 53\n",
    "\n",
    "def DecimalToBinary(decimal:int, showwork:bool) -> str:\n",
    "    \"\"\"\n",
    "    Takes a decimal value returns its binary representation,\n",
    "    printing each step to show work\n",
    "\n",
    "    Params:\n",
    "        decimal: integer value to be converted\n",
    "        showwork: bool which indicates whether to print work\n",
    "    \"\"\"\n",
    "\n",
    "    # list to keep track of bits for binary representation\n",
    "    binary = []\n",
    "\n",
    "    # track bit number\n",
    "    i = 0\n",
    "    # divide until 0\n",
    "    while decimal > 0:\n",
    "        # print iterations to show work\n",
    "        if showwork:\n",
    "            print(f\"{decimal} / 2 = {decimal // 2}, remainder of {decimal % 2}, bit #{i} is {decimal % 2}\")\n",
    "        # insert bit to beginning of list\n",
    "        binary.insert(0, str(decimal % 2))\n",
    "        # divide current value\n",
    "        decimal //= 2\n",
    "        # next bit\n",
    "        i += 1\n",
    "\n",
    "    binary = ''.join(binary)\n",
    "    # convert our list of bits to a string\n",
    "    return binary\n",
    "\n",
    "# save binary representaion of 53\n",
    "binary = DecimalToBinary(decimal, True)\n",
    "\n",
    "print(f\"Binary representation of 53: {binary}\")\n"
   ]
  },
  {
   "cell_type": "markdown",
   "metadata": {},
   "source": [
    "### Question 02\n",
    "\n",
    "Convert the binary number 1011001 to decimal. Show your work."
   ]
  },
  {
   "cell_type": "code",
   "execution_count": 105,
   "metadata": {},
   "outputs": [
    {
     "name": "stdout",
     "output_type": "stream",
     "text": [
      "adding 1 * 2 ** 6 = 64 to 0\n",
      "adding 0 * 2 ** 5 = 0 to 64\n",
      "adding 1 * 2 ** 4 = 16 to 64\n",
      "adding 1 * 2 ** 3 = 8 to 80\n",
      "adding 0 * 2 ** 2 = 0 to 88\n",
      "adding 0 * 2 ** 1 = 0 to 88\n",
      "adding 1 * 2 ** 0 = 1 to 88\n",
      "decimal representation of 1011001: 89\n"
     ]
    }
   ],
   "source": [
    "# initialize binary number as str\n",
    "binary = \"1011001\"\n",
    "\n",
    "def BinaryToDecimal(binary: str, showwork:bool) -> int:\n",
    "    \"\"\"\n",
    "    Takes a string representing a binary number\n",
    "    and returns its decimal counterpart as an int\n",
    "\n",
    "    Params:\n",
    "        binary: str value to be converted\n",
    "        showwork: bool which indicates whether to print work\n",
    "    \"\"\"\n",
    "\n",
    "    # number of bits in binary number\n",
    "    bit_num = len(binary) - 1\n",
    "    # initialize var for decimal result\n",
    "    decimal = 0\n",
    "\n",
    "    # iterate over bits\n",
    "    for bit in binary:\n",
    "        # value to add\n",
    "        to_add = int(bit) * 2**bit_num\n",
    "        # print step to show work\n",
    "        if showwork:\n",
    "            print(f\"adding {bit} * {2} ** {bit_num} = {to_add} to {decimal}\")\n",
    "        # add to decimal value\n",
    "        decimal += to_add\n",
    "        # next bit index\n",
    "        bit_num -= 1\n",
    "\n",
    "    return decimal\n",
    "\n",
    "decimal = BinaryToDecimal(binary, True)\n",
    "print(f\"decimal representation of {binary}: {decimal}\")"
   ]
  },
  {
   "cell_type": "markdown",
   "metadata": {},
   "source": [
    "### Question 03\n",
    "\n",
    "What is the hexadecimal representation of the RGB colour (128, 64, 255)? Explain your answer."
   ]
  },
  {
   "cell_type": "code",
   "execution_count": 131,
   "metadata": {},
   "outputs": [
    {
     "name": "stdout",
     "output_type": "stream",
     "text": [
      "The hexadecimal representation of (128, 64, 255) is #8040FF.\n",
      "Observe that we can convert each of the 3 components in the RGB\n",
      "to binary, and then to hexadecimal:\n",
      "128 becomes 10000000, then 1000 becomes 8 and 0000 becomes 0 so 128 is 80 in hexadecimal\n",
      "64 becomes 1000000, 0100 becomes and 0000 becomes 0, so 64 is 40 in hexadecimal\n",
      "255 becomes 11111111, both 1111s become F, so 255 becomes FF\n",
      "Putting these three hexadecimal representations together, the resulting hex code is #8040FF.\n"
     ]
    }
   ],
   "source": [
    "RGB = (128, 64, 255)\n",
    "\n",
    "print(f\"The hexadecimal representation of {RGB} is #8040FF.\\n\\\n",
    "Observe that we can convert each of the 3 components in the RGB\\n\\\n",
    "to binary, and then to hexadecimal:\\n{RGB[0]} becomes {DecimalToBinary(RGB[0], False)},\\\n",
    " then 1000 becomes 8 and 0000 becomes 0 so 128 is 80 in hexadecimal\\n\\\n",
    "{RGB[1]} becomes {DecimalToBinary(RGB[1], False)}, 0100 becomes and 0000 becomes 0\\\n",
    ", so 64 is 40 in hexadecimal\\n\\\n",
    "{RGB[2]} becomes {DecimalToBinary(RGB[2], False)}, both 1111s become F, \\\n",
    "so 255 becomes FF\\n\\\n",
    "Putting these three hexadecimal representations together, the resulting hex code is #8040FF.\")"
   ]
  },
  {
   "cell_type": "markdown",
   "metadata": {},
   "source": [
    "### Question 04\n",
    "\n",
    "Convert the hexadecimal colour #2A9F3B to its RGB components. Show your steps."
   ]
  },
  {
   "cell_type": "code",
   "execution_count": 175,
   "metadata": {},
   "outputs": [
    {
     "name": "stdout",
     "output_type": "stream",
     "text": [
      "2A becomes 00101010 which is then converted to 42\n",
      "9F becomes 10011111 which is then converted to 159\n",
      "3B becomes 00111011 which is then converted to 59\n",
      "2A9F3B becomes (42, 159, 59)\n"
     ]
    }
   ],
   "source": [
    "hex = '2A9F3B'\n",
    "\n",
    "def HexColorToRGB(hex:str, showwork:bool) -> tuple:\n",
    "    \"\"\"\n",
    "    Takes a hex code for a color and returns its rgb\n",
    "    representation in the form of a tuple\n",
    "\n",
    "    Params:\n",
    "        hex: 6 character long str hex code to be converted\n",
    "        showwork: boolean indicating whether to show work or not\n",
    "    \n",
    "    \"\"\"\n",
    "\n",
    "    # initialize result\n",
    "    RGB = []\n",
    "    \n",
    "    # define dictionary to lookup binary represenations of hex bits\n",
    "    HexToBinary = {\n",
    "    '0': '0000', '1': '0001', '2': '0010', '3': '0011',\n",
    "    '4': '0100', '5': '0101', '6': '0110', '7': '0111',\n",
    "    '8': '1000', '9': '1001', 'A': '1010', 'B': '1011',\n",
    "    'C': '1100', 'D': '1101', 'E': '1110', 'F': '1111'\n",
    "    }\n",
    "\n",
    "    # iterate over pairs of hex bits\n",
    "    i = 1\n",
    "    while i < 6:\n",
    "        # using previously defined\n",
    "        print(''.join(hex[i-1:i+1]), 'becomes', HexToBinary[hex[i-1]] + HexToBinary[hex[i]],\n",
    "              'which is then converted to', BinaryToDecimal(HexToBinary[hex[i-1]] + HexToBinary[hex[i]], False))\n",
    "        RGB.append(BinaryToDecimal(HexToBinary[hex[i-1]] + HexToBinary[hex[i]], False))\n",
    "        i += 2\n",
    "    return tuple(RGB)\n",
    "\n",
    "\n",
    "rgb = HexColorToRGB('2A9F3B', True)\n",
    "\n",
    "print(hex, 'becomes', rgb)\n",
    "\n",
    "    "
   ]
  },
  {
   "cell_type": "markdown",
   "metadata": {},
   "source": [
    "### Question 05\n",
    "\n",
    "Using the coin representation system described in the lecture (c[quarters][dimes][nickels][pennies]), convert $1.37 to coin representation. Explain your reasoning."
   ]
  },
  {
   "cell_type": "code",
   "execution_count": 204,
   "metadata": {},
   "outputs": [
    {
     "name": "stdout",
     "output_type": "stream",
     "text": [
      "$1.37 in our coin system can be represented as c5102\n",
      "The thought process was to use as many quarters as possible first, then\n",
      "to use dimes, then nickels, then pennies as to use the smallest amount\n",
      "of coins as possible.\n"
     ]
    }
   ],
   "source": [
    "def DollarToCoins(USD:float) -> str:\n",
    "    \"\"\"\n",
    "    Takes a dollar amount and converts it to the\n",
    "    coin representation taught in class (str)\n",
    "\n",
    "    Params:\n",
    "        USD: float of a dollar amount to convert\n",
    "    \"\"\"\n",
    "    q, d, n, p = 0, 0, 0, 0\n",
    "\n",
    "    while USD >= .25:\n",
    "        q += 1\n",
    "        USD -= .25\n",
    "    while USD >= 0.1:\n",
    "        d += 1\n",
    "        USD -= .1\n",
    "    while USD >= .05:\n",
    "        n += 1\n",
    "        USD -= .05\n",
    "    while USD > 0.01:\n",
    "        p += 1\n",
    "        USD -= 0.01\n",
    "    return f\"c{q}{d}{n}{p}\"\n",
    "\n",
    "print(f\"$1.37 in our coin system can be represented as {DollarToCoins(1.37)}\\n\\\n",
    "The thought process was to use as many quarters as possible first, then\\n\\\n",
    "to use dimes, then nickels, then pennies as to use the smallest amount\\n\\\n",
    "of coins as possible.\")"
   ]
  },
  {
   "cell_type": "markdown",
   "metadata": {},
   "source": [
    "### Question 06\n",
    "\n",
    "What is the Unicode representation of the word \"Emory\"? Use the Unicode table provided in the lecture to find out."
   ]
  },
  {
   "cell_type": "code",
   "execution_count": 231,
   "metadata": {},
   "outputs": [
    {
     "name": "stdout",
     "output_type": "stream",
     "text": [
      "Using the provided table, Emory in unicode can be represented as: \\u0045\\u006d\\u006f\\u0072\\u0079\n"
     ]
    }
   ],
   "source": [
    "print(\"Using the provided table, Emory in unicode can be represented as: \\\\u0045\\\\u006d\\\\u006f\\\\u0072\\\\u0079\")"
   ]
  },
  {
   "cell_type": "markdown",
   "metadata": {},
   "source": [
    "### Question 07\n",
    "\n",
    "Explain the difference between ASCII and Unicode. Why was Unicode developed, and what advantages does it offer over ASCII?"
   ]
  },
  {
   "cell_type": "code",
   "execution_count": 227,
   "metadata": {},
   "outputs": [
    {
     "name": "stdout",
     "output_type": "stream",
     "text": [
      "ASCII includes only unaccented characters, whereas Unicode includes a significantly greater amount of characters\n",
      "including all languages, symbols, emojis, etc. Unicode provides representations for many more characters.\n"
     ]
    }
   ],
   "source": [
    "print(\"ASCII includes only unaccented characters, whereas Unicode includes a significantly greater amount of characters\\n\\\n",
    "including all languages, symbols, emojis, etc. Unicode provides representations for many more characters.\")"
   ]
  },
  {
   "cell_type": "markdown",
   "metadata": {},
   "source": [
    "### Question 08\n",
    "\n",
    "Describe the Von Neumann architecture and its significance in modern computing. What is the Von Neumann bottleneck, and how does it affect computer performance?"
   ]
  },
  {
   "cell_type": "code",
   "execution_count": 235,
   "metadata": {},
   "outputs": [
    {
     "name": "stdout",
     "output_type": "stream",
     "text": [
      "The Von Neumann architecure was a turning point for computing, as it transitioned computers from \n",
      "being mechanical to electronic. A computer following the Von Nuemann architecure contains a central\n",
      "unit responsible for arithmetic logic and instructions, as well as a memory unit which stores data\n",
      "and instructions. This memory unit acts a slow storage medium, where data/instructions can then be\n",
      "transferred to a faster storage unit, RAM, to be executed. This helped distinguish programs, and data\n",
      "allowing for increased efficiency and robustness in handling/manipulating data. The bottleneck\n",
      "is that performance is limited due to the fact that instructions and data are processed sequentially\n",
      "leading to the CPU having to wait for data, as it is faster than the memory unit.\n"
     ]
    }
   ],
   "source": [
    "print(\"The Von Neumann architecure was a turning point for computing, as it transitioned computers from \\n\\\n",
    "being mechanical to electronic. A computer following the Von Nuemann architecure contains a central\\n\\\n",
    "unit responsible for arithmetic logic and instructions, as well as a memory unit which stores data\\n\\\n",
    "and instructions. This memory unit acts a slow storage medium, where data/instructions can then be\\n\\\n",
    "transferred to a faster storage unit, RAM, to be executed. This helped distinguish programs, and data\\n\\\n",
    "allowing for increased efficiency and robustness in handling/manipulating data. The bottleneck\\n\\\n",
    "is that performance is limited due to the fact that instructions and data are processed sequentially\\n\\\n",
    "leading to the CPU having to wait for data, as it is faster than the memory unit.\")"
   ]
  },
  {
   "cell_type": "markdown",
   "metadata": {},
   "source": [
    "### Question 09\n",
    "\n",
    "Compare and contrast low-level and high-level programming languages. Give two examples of each and explain when you might choose to use one over the other."
   ]
  },
  {
   "cell_type": "code",
   "execution_count": 245,
   "metadata": {},
   "outputs": [
    {
     "name": "stdout",
     "output_type": "stream",
     "text": [
      "Low-level languages and high-level languages are both used to interact with machines\n",
      "directly, allowing for the translation of a readable language into binary code, which is \n",
      "unreadable by humans, but necessary to program. Low-level languages are more similar to\n",
      "to machine code, and are consequentially more complicated, and harder to learn than\n",
      "higher-level languages. Another difference is that high-level languages deviate from\n",
      "having to specify hardware details, allowing them to be far more portable across systems.\n",
      "\n",
      "Assembly and Intel86 are examples of low-level languages. Low-level languages are much\n",
      "faster and more efficient, therefore can be used in situations where speed and performace\n",
      "is critical, as these languages are far less computationally expensive.\n",
      "\n",
      "Some high-level languages are Java and C++. These are excellent when\n",
      "developing a less complex program, such as some form of analysis or web development\n",
      "as they are much easier to write, learn and understand.\n"
     ]
    }
   ],
   "source": [
    "print(\"Low-level languages and high-level languages are both used to interact with machines\\n\\\n",
    "directly, allowing for the translation of a readable language into binary code, which is \\n\\\n",
    "unreadable by humans, but necessary to program. Low-level languages are more similar to\\n\\\n",
    "to machine code, and are consequentially more complicated, and harder to learn than\\n\\\n",
    "higher-level languages. Another difference is that high-level languages deviate from\\n\\\n",
    "having to specify hardware details, allowing them to be far more portable across systems.\\n\\n\\\n",
    "Assembly and Intel86 are examples of low-level languages. Low-level languages are much\\n\\\n",
    "faster and more efficient, therefore can be used in situations where speed and performace\\n\\\n",
    "is critical, as these languages are far less computationally expensive.\\n\\n\\\n",
    "Some high-level languages are Java and C++. These are excellent when\\n\\\n",
    "developing a less complex program, such as some form of analysis or web development\\n\\\n",
    "as they are much easier to write, learn and understand.\")"
   ]
  },
  {
   "cell_type": "markdown",
   "metadata": {},
   "source": [
    "### Question 10\n",
    "\n",
    "Discuss the concept of abstraction in computer science, using the representation of images in computers as an example. How does this abstraction process impact data analysis and predictive modelling in image-related tasks?"
   ]
  },
  {
   "cell_type": "code",
   "execution_count": 249,
   "metadata": {},
   "outputs": [
    {
     "name": "stdout",
     "output_type": "stream",
     "text": [
      "Abstraction is a central theme in computer science. It involves reducing the number\n",
      "of variables and moving parts, and prioritizing only crucial details. This is the concept\n",
      "behind higher-level languages, as it allows for programmers to focus on elements separate\n",
      "from hardware details, or other low-level processess. Using images as an example, we see\n",
      "that at the lowest level, images are simply a grid of pixels, each encoded as an rgb tuple\n",
      "representing a color. At the higher-levels, image recognition software which uses CNNs\n",
      "are capable of identifying certain things in images by identifying reocurring patterns\n",
      "in pixels. Abstraction pushes the boundary of what a computer can interpret, allowing for\n",
      "increased efficiency in analysis and prediction. An example - in the past, linear regression\n",
      "required a far more manual and tedious process, however now, it can be as simple as importing\n",
      "a library in Python. Of course there are cons, such as oversimplification, or using a model\n",
      "despite the data not fitting the assumptions.\n"
     ]
    }
   ],
   "source": [
    "print(\"Abstraction is a central theme in computer science. It involves reducing the number\\n\\\n",
    "of variables and moving parts, and prioritizing only crucial details. This is the concept\\n\\\n",
    "behind higher-level languages, as it allows for programmers to focus on elements separate\\n\\\n",
    "from hardware details, or other low-level processess. Using images as an example, we see\\n\\\n",
    "that at the lowest level, images are simply a grid of pixels, each encoded as an rgb tuple\\n\\\n",
    "representing a color. At the higher-levels, image recognition software which uses CNNs\\n\\\n",
    "are capable of identifying certain things in images by identifying reocurring patterns\\n\\\n",
    "in pixels. Abstraction pushes the boundary of what a computer can interpret, allowing for\\n\\\n",
    "increased efficiency in analysis and prediction. An example - in the past, linear regression\\n\\\n",
    "required a far more manual and tedious process, however now, it can be as simple as importing\\n\\\n",
    "a library in Python. Of course there are cons, such as oversimplification, or using a model\\n\\\n",
    "despite the data not fitting the assumptions.\")"
   ]
  }
 ],
 "metadata": {
  "kernelspec": {
   "display_name": "base",
   "language": "python",
   "name": "python3"
  },
  "language_info": {
   "codemirror_mode": {
    "name": "ipython",
    "version": 3
   },
   "file_extension": ".py",
   "mimetype": "text/x-python",
   "name": "python",
   "nbconvert_exporter": "python",
   "pygments_lexer": "ipython3",
   "version": "3.11.5"
  }
 },
 "nbformat": 4,
 "nbformat_minor": 2
}
